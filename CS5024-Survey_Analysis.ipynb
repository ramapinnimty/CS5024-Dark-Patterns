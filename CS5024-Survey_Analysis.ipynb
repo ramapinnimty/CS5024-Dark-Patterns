{
 "cells": [
  {
   "cell_type": "code",
   "execution_count": 1,
   "id": "a84934b5",
   "metadata": {},
   "outputs": [],
   "source": [
    "import numpy as np\n",
    "import pandas as pd\n",
    "import matplotlib.pyplot as plt\n",
    "import seaborn as sns\n",
    "\n",
    "pd.set_option(\"display.precision\", 2)\n",
    "sns.set()\n",
    "%matplotlib inline"
   ]
  },
  {
   "cell_type": "code",
   "execution_count": 2,
   "id": "f32352cd",
   "metadata": {},
   "outputs": [],
   "source": [
    "data = pd.read_csv('./survery_data.csv')"
   ]
  },
  {
   "cell_type": "code",
   "execution_count": 3,
   "id": "fe661bcb",
   "metadata": {},
   "outputs": [
    {
     "data": {
      "text/html": [
       "<div>\n",
       "<style scoped>\n",
       "    .dataframe tbody tr th:only-of-type {\n",
       "        vertical-align: middle;\n",
       "    }\n",
       "\n",
       "    .dataframe tbody tr th {\n",
       "        vertical-align: top;\n",
       "    }\n",
       "\n",
       "    .dataframe thead th {\n",
       "        text-align: right;\n",
       "    }\n",
       "</style>\n",
       "<table border=\"1\" class=\"dataframe\">\n",
       "  <thead>\n",
       "    <tr style=\"text-align: right;\">\n",
       "      <th></th>\n",
       "      <th>Timestamp</th>\n",
       "      <th>Are you in a technical-related major / field?</th>\n",
       "      <th>How many hours per day do you typically use the internet (please enter a number and use decimals for partial hours)?</th>\n",
       "      <th>Please rate how 'tech-savvy' you believe yourself to be.</th>\n",
       "      <th>Answer quickly: If you ever happen to stumble upon an option on a webpage as the one in the below snippet, are you going to check the box?</th>\n",
       "      <th>You are checking out an online shopping site and are being asked to add an item to your basket, which is the first button you are pressing?</th>\n",
       "      <th>You want to download a given file from the website below. Which download button do you \"instinctively\" click?</th>\n",
       "      <th>How many options do you think you are allowed to select in the following response prompt?</th>\n",
       "      <th>Are you familiar with the term \"Dark Pattern\"?</th>\n",
       "      <th>Have you taken any measures to learn about the general guidelines of internet safety?</th>\n",
       "      <th>If your answer to the previous question is \"Yes\" please explain which measures below, otherwise type \"no\" in the box.</th>\n",
       "    </tr>\n",
       "  </thead>\n",
       "  <tbody>\n",
       "    <tr>\n",
       "      <th>0</th>\n",
       "      <td>11/19/2021 9:53:16</td>\n",
       "      <td>No</td>\n",
       "      <td>6.5</td>\n",
       "      <td>3</td>\n",
       "      <td>No</td>\n",
       "      <td>The right button</td>\n",
       "      <td>Option 1</td>\n",
       "      <td>1</td>\n",
       "      <td>No</td>\n",
       "      <td>No</td>\n",
       "      <td>NaN</td>\n",
       "    </tr>\n",
       "    <tr>\n",
       "      <th>1</th>\n",
       "      <td>11/19/2021 9:57:55</td>\n",
       "      <td>No</td>\n",
       "      <td>12.0</td>\n",
       "      <td>3</td>\n",
       "      <td>No</td>\n",
       "      <td>The left button</td>\n",
       "      <td>Option 1</td>\n",
       "      <td>4</td>\n",
       "      <td>No</td>\n",
       "      <td>No</td>\n",
       "      <td>no</td>\n",
       "    </tr>\n",
       "    <tr>\n",
       "      <th>2</th>\n",
       "      <td>11/19/2021 11:12:14</td>\n",
       "      <td>No</td>\n",
       "      <td>10.0</td>\n",
       "      <td>4</td>\n",
       "      <td>No</td>\n",
       "      <td>The left button</td>\n",
       "      <td>Option 2</td>\n",
       "      <td>4</td>\n",
       "      <td>No</td>\n",
       "      <td>Yes</td>\n",
       "      <td>Don't download anything from suspicious websit...</td>\n",
       "    </tr>\n",
       "    <tr>\n",
       "      <th>3</th>\n",
       "      <td>11/19/2021 11:13:40</td>\n",
       "      <td>Yes</td>\n",
       "      <td>8.0</td>\n",
       "      <td>4</td>\n",
       "      <td>No</td>\n",
       "      <td>The left button</td>\n",
       "      <td>Option 1</td>\n",
       "      <td>4</td>\n",
       "      <td>No</td>\n",
       "      <td>No</td>\n",
       "      <td>NaN</td>\n",
       "    </tr>\n",
       "    <tr>\n",
       "      <th>4</th>\n",
       "      <td>11/19/2021 11:16:56</td>\n",
       "      <td>No</td>\n",
       "      <td>8.5</td>\n",
       "      <td>3</td>\n",
       "      <td>No</td>\n",
       "      <td>The left button</td>\n",
       "      <td>Option 2</td>\n",
       "      <td>1</td>\n",
       "      <td>No</td>\n",
       "      <td>No</td>\n",
       "      <td>No</td>\n",
       "    </tr>\n",
       "  </tbody>\n",
       "</table>\n",
       "</div>"
      ],
      "text/plain": [
       "             Timestamp Are you in a technical-related major / field?  \\\n",
       "0   11/19/2021 9:53:16                                            No   \n",
       "1   11/19/2021 9:57:55                                            No   \n",
       "2  11/19/2021 11:12:14                                            No   \n",
       "3  11/19/2021 11:13:40                                           Yes   \n",
       "4  11/19/2021 11:16:56                                            No   \n",
       "\n",
       "   How many hours per day do you typically use the internet (please enter a number and use decimals for partial hours)?  \\\n",
       "0                                                6.5                                                                      \n",
       "1                                               12.0                                                                      \n",
       "2                                               10.0                                                                      \n",
       "3                                                8.0                                                                      \n",
       "4                                                8.5                                                                      \n",
       "\n",
       "   Please rate how 'tech-savvy' you believe yourself to be.  \\\n",
       "0                                                  3          \n",
       "1                                                  3          \n",
       "2                                                  4          \n",
       "3                                                  4          \n",
       "4                                                  3          \n",
       "\n",
       "  Answer quickly: If you ever happen to stumble upon an option on a webpage as the one in the below snippet, are you going to check the box?  \\\n",
       "0                                                 No                                                                                           \n",
       "1                                                 No                                                                                           \n",
       "2                                                 No                                                                                           \n",
       "3                                                 No                                                                                           \n",
       "4                                                 No                                                                                           \n",
       "\n",
       "  You are checking out an online shopping site and are being asked to add an item to your basket, which is the first button you are pressing?  \\\n",
       "0                                   The right button                                                                                            \n",
       "1                                    The left button                                                                                            \n",
       "2                                    The left button                                                                                            \n",
       "3                                    The left button                                                                                            \n",
       "4                                    The left button                                                                                            \n",
       "\n",
       "  You want to download a given file from the website below. Which download button do you \"instinctively\" click?   \\\n",
       "0                                           Option 1                                                               \n",
       "1                                           Option 1                                                               \n",
       "2                                           Option 2                                                               \n",
       "3                                           Option 1                                                               \n",
       "4                                           Option 2                                                               \n",
       "\n",
       "   How many options do you think you are allowed to select in the following response prompt?  \\\n",
       "0                                                  1                                           \n",
       "1                                                  4                                           \n",
       "2                                                  4                                           \n",
       "3                                                  4                                           \n",
       "4                                                  1                                           \n",
       "\n",
       "  Are you familiar with the term \"Dark Pattern\"?  \\\n",
       "0                                             No   \n",
       "1                                             No   \n",
       "2                                             No   \n",
       "3                                             No   \n",
       "4                                             No   \n",
       "\n",
       "  Have you taken any measures to learn about the general guidelines of internet safety?  \\\n",
       "0                                                 No                                      \n",
       "1                                                 No                                      \n",
       "2                                                Yes                                      \n",
       "3                                                 No                                      \n",
       "4                                                 No                                      \n",
       "\n",
       "  If your answer to the previous question is \"Yes\" please explain which measures below, otherwise type \"no\" in the box.  \n",
       "0                                                NaN                                                                     \n",
       "1                                                 no                                                                     \n",
       "2  Don't download anything from suspicious websit...                                                                     \n",
       "3                                                NaN                                                                     \n",
       "4                                                 No                                                                     "
      ]
     },
     "execution_count": 3,
     "metadata": {},
     "output_type": "execute_result"
    }
   ],
   "source": [
    "data.head()"
   ]
  },
  {
   "cell_type": "code",
   "execution_count": 4,
   "id": "bf37f689",
   "metadata": {
    "scrolled": false
   },
   "outputs": [],
   "source": [
    "data.columns = [\"timestamp\", \n",
    "    \"is_tech_major\", \n",
    "    \"avg_internet_use\", \n",
    "    \"tech_savvy_level\", \n",
    "    \"will_click_checkbox\", \n",
    "    \"will_click_donation\", \n",
    "    \"download_option\", \n",
    "    \"options_permitted_to_select\", \n",
    "    \"know_about_dark_pattern\", \n",
    "    \"learnt_guidelines\", \n",
    "    \"brief_explanation\"\n",
    "]\n",
    "\n",
    "data.drop(columns=[\"timestamp\", \"brief_explanation\"], inplace=True)"
   ]
  },
  {
   "cell_type": "code",
   "execution_count": 5,
   "id": "2a2d8ed8",
   "metadata": {},
   "outputs": [
    {
     "name": "stdout",
     "output_type": "stream",
     "text": [
      "<class 'pandas.core.frame.DataFrame'>\n",
      "RangeIndex: 54 entries, 0 to 53\n",
      "Data columns (total 9 columns):\n",
      " #   Column                       Non-Null Count  Dtype  \n",
      "---  ------                       --------------  -----  \n",
      " 0   is_tech_major                54 non-null     object \n",
      " 1   avg_internet_use             54 non-null     float64\n",
      " 2   tech_savvy_level             54 non-null     int64  \n",
      " 3   will_click_checkbox          54 non-null     object \n",
      " 4   will_click_donation          54 non-null     object \n",
      " 5   download_option              54 non-null     object \n",
      " 6   options_permitted_to_select  54 non-null     int64  \n",
      " 7   know_about_dark_pattern      54 non-null     object \n",
      " 8   learnt_guidelines            54 non-null     object \n",
      "dtypes: float64(1), int64(2), object(6)\n",
      "memory usage: 3.9+ KB\n"
     ]
    }
   ],
   "source": [
    "data.info()"
   ]
  },
  {
   "cell_type": "code",
   "execution_count": 6,
   "id": "a66bd3f2",
   "metadata": {
    "scrolled": true
   },
   "outputs": [
    {
     "data": {
      "text/html": [
       "<div>\n",
       "<style scoped>\n",
       "    .dataframe tbody tr th:only-of-type {\n",
       "        vertical-align: middle;\n",
       "    }\n",
       "\n",
       "    .dataframe tbody tr th {\n",
       "        vertical-align: top;\n",
       "    }\n",
       "\n",
       "    .dataframe thead th {\n",
       "        text-align: right;\n",
       "    }\n",
       "</style>\n",
       "<table border=\"1\" class=\"dataframe\">\n",
       "  <thead>\n",
       "    <tr style=\"text-align: right;\">\n",
       "      <th></th>\n",
       "      <th>is_tech_major</th>\n",
       "      <th>avg_internet_use</th>\n",
       "      <th>tech_savvy_level</th>\n",
       "      <th>will_click_checkbox</th>\n",
       "      <th>will_click_donation</th>\n",
       "      <th>download_option</th>\n",
       "      <th>options_permitted_to_select</th>\n",
       "      <th>know_about_dark_pattern</th>\n",
       "      <th>learnt_guidelines</th>\n",
       "    </tr>\n",
       "  </thead>\n",
       "  <tbody>\n",
       "    <tr>\n",
       "      <th>0</th>\n",
       "      <td>No</td>\n",
       "      <td>6.5</td>\n",
       "      <td>3</td>\n",
       "      <td>No</td>\n",
       "      <td>The right button</td>\n",
       "      <td>Option 1</td>\n",
       "      <td>1</td>\n",
       "      <td>No</td>\n",
       "      <td>No</td>\n",
       "    </tr>\n",
       "    <tr>\n",
       "      <th>1</th>\n",
       "      <td>No</td>\n",
       "      <td>12.0</td>\n",
       "      <td>3</td>\n",
       "      <td>No</td>\n",
       "      <td>The left button</td>\n",
       "      <td>Option 1</td>\n",
       "      <td>4</td>\n",
       "      <td>No</td>\n",
       "      <td>No</td>\n",
       "    </tr>\n",
       "    <tr>\n",
       "      <th>2</th>\n",
       "      <td>No</td>\n",
       "      <td>10.0</td>\n",
       "      <td>4</td>\n",
       "      <td>No</td>\n",
       "      <td>The left button</td>\n",
       "      <td>Option 2</td>\n",
       "      <td>4</td>\n",
       "      <td>No</td>\n",
       "      <td>Yes</td>\n",
       "    </tr>\n",
       "    <tr>\n",
       "      <th>3</th>\n",
       "      <td>Yes</td>\n",
       "      <td>8.0</td>\n",
       "      <td>4</td>\n",
       "      <td>No</td>\n",
       "      <td>The left button</td>\n",
       "      <td>Option 1</td>\n",
       "      <td>4</td>\n",
       "      <td>No</td>\n",
       "      <td>No</td>\n",
       "    </tr>\n",
       "    <tr>\n",
       "      <th>4</th>\n",
       "      <td>No</td>\n",
       "      <td>8.5</td>\n",
       "      <td>3</td>\n",
       "      <td>No</td>\n",
       "      <td>The left button</td>\n",
       "      <td>Option 2</td>\n",
       "      <td>1</td>\n",
       "      <td>No</td>\n",
       "      <td>No</td>\n",
       "    </tr>\n",
       "  </tbody>\n",
       "</table>\n",
       "</div>"
      ],
      "text/plain": [
       "  is_tech_major  avg_internet_use  tech_savvy_level will_click_checkbox  \\\n",
       "0            No               6.5                 3                  No   \n",
       "1            No              12.0                 3                  No   \n",
       "2            No              10.0                 4                  No   \n",
       "3           Yes               8.0                 4                  No   \n",
       "4            No               8.5                 3                  No   \n",
       "\n",
       "  will_click_donation download_option  options_permitted_to_select  \\\n",
       "0    The right button        Option 1                            1   \n",
       "1     The left button        Option 1                            4   \n",
       "2     The left button        Option 2                            4   \n",
       "3     The left button        Option 1                            4   \n",
       "4     The left button        Option 2                            1   \n",
       "\n",
       "  know_about_dark_pattern learnt_guidelines  \n",
       "0                      No                No  \n",
       "1                      No                No  \n",
       "2                      No               Yes  \n",
       "3                      No                No  \n",
       "4                      No                No  "
      ]
     },
     "execution_count": 6,
     "metadata": {},
     "output_type": "execute_result"
    }
   ],
   "source": [
    "data.head()"
   ]
  },
  {
   "cell_type": "code",
   "execution_count": 7,
   "id": "a7102a94",
   "metadata": {},
   "outputs": [],
   "source": [
    "data['is_tech_major'] = data['is_tech_major'].map({'No': 0, 'Yes': 1})\n",
    "data['avg_internet_use'] = (data['avg_internet_use'] >= 10).map({False: 0, True: 1})\n",
    "data['tech_savvy_level'] = data['tech_savvy_level'].map({1: 0, 2: 0, 3: 0, 4: 1, 5: 1})\n",
    "data['will_click_checkbox'] = data['will_click_checkbox'].map({'No': 0, 'Yes': 1})\n",
    "data['will_click_donation'] = data['will_click_donation'].map({'The left button': 0, 'The right button': 1})\n",
    "data['download_option'] = data['download_option'].map({'Option 1': 1, 'Option 2': 2, 'Option 3': 3})\n",
    "data['know_about_dark_pattern'] = data['know_about_dark_pattern'].map({'No': 0, 'Yes': 1})\n",
    "data['learnt_guidelines'] = data['learnt_guidelines'].map({'No': 0, 'Yes': 1})\n",
    "data['count'] = np.ones(data.shape[0])"
   ]
  },
  {
   "cell_type": "code",
   "execution_count": 8,
   "id": "e07ede4a",
   "metadata": {},
   "outputs": [
    {
     "data": {
      "text/html": [
       "<div>\n",
       "<style scoped>\n",
       "    .dataframe tbody tr th:only-of-type {\n",
       "        vertical-align: middle;\n",
       "    }\n",
       "\n",
       "    .dataframe tbody tr th {\n",
       "        vertical-align: top;\n",
       "    }\n",
       "\n",
       "    .dataframe thead th {\n",
       "        text-align: right;\n",
       "    }\n",
       "</style>\n",
       "<table border=\"1\" class=\"dataframe\">\n",
       "  <thead>\n",
       "    <tr style=\"text-align: right;\">\n",
       "      <th></th>\n",
       "      <th>is_tech_major</th>\n",
       "      <th>avg_internet_use</th>\n",
       "      <th>tech_savvy_level</th>\n",
       "      <th>will_click_checkbox</th>\n",
       "      <th>will_click_donation</th>\n",
       "      <th>download_option</th>\n",
       "      <th>options_permitted_to_select</th>\n",
       "      <th>know_about_dark_pattern</th>\n",
       "      <th>learnt_guidelines</th>\n",
       "      <th>count</th>\n",
       "    </tr>\n",
       "  </thead>\n",
       "  <tbody>\n",
       "    <tr>\n",
       "      <th>0</th>\n",
       "      <td>0</td>\n",
       "      <td>0</td>\n",
       "      <td>0</td>\n",
       "      <td>0</td>\n",
       "      <td>1</td>\n",
       "      <td>1</td>\n",
       "      <td>1</td>\n",
       "      <td>0</td>\n",
       "      <td>0</td>\n",
       "      <td>1.0</td>\n",
       "    </tr>\n",
       "    <tr>\n",
       "      <th>1</th>\n",
       "      <td>0</td>\n",
       "      <td>1</td>\n",
       "      <td>0</td>\n",
       "      <td>0</td>\n",
       "      <td>0</td>\n",
       "      <td>1</td>\n",
       "      <td>4</td>\n",
       "      <td>0</td>\n",
       "      <td>0</td>\n",
       "      <td>1.0</td>\n",
       "    </tr>\n",
       "    <tr>\n",
       "      <th>2</th>\n",
       "      <td>0</td>\n",
       "      <td>1</td>\n",
       "      <td>1</td>\n",
       "      <td>0</td>\n",
       "      <td>0</td>\n",
       "      <td>2</td>\n",
       "      <td>4</td>\n",
       "      <td>0</td>\n",
       "      <td>1</td>\n",
       "      <td>1.0</td>\n",
       "    </tr>\n",
       "    <tr>\n",
       "      <th>3</th>\n",
       "      <td>1</td>\n",
       "      <td>0</td>\n",
       "      <td>1</td>\n",
       "      <td>0</td>\n",
       "      <td>0</td>\n",
       "      <td>1</td>\n",
       "      <td>4</td>\n",
       "      <td>0</td>\n",
       "      <td>0</td>\n",
       "      <td>1.0</td>\n",
       "    </tr>\n",
       "    <tr>\n",
       "      <th>4</th>\n",
       "      <td>0</td>\n",
       "      <td>0</td>\n",
       "      <td>0</td>\n",
       "      <td>0</td>\n",
       "      <td>0</td>\n",
       "      <td>2</td>\n",
       "      <td>1</td>\n",
       "      <td>0</td>\n",
       "      <td>0</td>\n",
       "      <td>1.0</td>\n",
       "    </tr>\n",
       "  </tbody>\n",
       "</table>\n",
       "</div>"
      ],
      "text/plain": [
       "   is_tech_major  avg_internet_use  tech_savvy_level  will_click_checkbox  \\\n",
       "0              0                 0                 0                    0   \n",
       "1              0                 1                 0                    0   \n",
       "2              0                 1                 1                    0   \n",
       "3              1                 0                 1                    0   \n",
       "4              0                 0                 0                    0   \n",
       "\n",
       "   will_click_donation  download_option  options_permitted_to_select  \\\n",
       "0                    1                1                            1   \n",
       "1                    0                1                            4   \n",
       "2                    0                2                            4   \n",
       "3                    0                1                            4   \n",
       "4                    0                2                            1   \n",
       "\n",
       "   know_about_dark_pattern  learnt_guidelines  count  \n",
       "0                        0                  0    1.0  \n",
       "1                        0                  0    1.0  \n",
       "2                        0                  1    1.0  \n",
       "3                        0                  0    1.0  \n",
       "4                        0                  0    1.0  "
      ]
     },
     "execution_count": 8,
     "metadata": {},
     "output_type": "execute_result"
    }
   ],
   "source": [
    "data.head()"
   ]
  },
  {
   "cell_type": "code",
   "execution_count": 9,
   "id": "96ed8ce1",
   "metadata": {
    "scrolled": true
   },
   "outputs": [
    {
     "data": {
      "text/plain": [
       "1    0.7\n",
       "0    0.3\n",
       "Name: is_tech_major, dtype: float64"
      ]
     },
     "execution_count": 9,
     "metadata": {},
     "output_type": "execute_result"
    }
   ],
   "source": [
    "data['is_tech_major'].value_counts(normalize=True)"
   ]
  },
  {
   "cell_type": "code",
   "execution_count": 10,
   "id": "b66f6d2c",
   "metadata": {},
   "outputs": [
    {
     "data": {
      "text/plain": [
       "0    0.59\n",
       "1    0.41\n",
       "Name: avg_internet_use, dtype: float64"
      ]
     },
     "execution_count": 10,
     "metadata": {},
     "output_type": "execute_result"
    }
   ],
   "source": [
    "data['avg_internet_use'].value_counts(normalize=True)"
   ]
  },
  {
   "cell_type": "code",
   "execution_count": 11,
   "id": "2f157e0a",
   "metadata": {},
   "outputs": [
    {
     "data": {
      "text/plain": [
       "1    0.54\n",
       "0    0.46\n",
       "Name: tech_savvy_level, dtype: float64"
      ]
     },
     "execution_count": 11,
     "metadata": {},
     "output_type": "execute_result"
    }
   ],
   "source": [
    "data['tech_savvy_level'].value_counts(normalize=True)"
   ]
  },
  {
   "cell_type": "code",
   "execution_count": 12,
   "id": "991725ad",
   "metadata": {},
   "outputs": [
    {
     "data": {
      "text/html": [
       "<div>\n",
       "<style scoped>\n",
       "    .dataframe tbody tr th:only-of-type {\n",
       "        vertical-align: middle;\n",
       "    }\n",
       "\n",
       "    .dataframe tbody tr th {\n",
       "        vertical-align: top;\n",
       "    }\n",
       "\n",
       "    .dataframe thead th {\n",
       "        text-align: right;\n",
       "    }\n",
       "</style>\n",
       "<table border=\"1\" class=\"dataframe\">\n",
       "  <thead>\n",
       "    <tr style=\"text-align: right;\">\n",
       "      <th>will_click_checkbox</th>\n",
       "      <th>0</th>\n",
       "      <th>1</th>\n",
       "    </tr>\n",
       "    <tr>\n",
       "      <th>is_tech_major</th>\n",
       "      <th></th>\n",
       "      <th></th>\n",
       "    </tr>\n",
       "  </thead>\n",
       "  <tbody>\n",
       "    <tr>\n",
       "      <th>0</th>\n",
       "      <td>0.75</td>\n",
       "      <td>0.25</td>\n",
       "    </tr>\n",
       "    <tr>\n",
       "      <th>1</th>\n",
       "      <td>0.71</td>\n",
       "      <td>0.29</td>\n",
       "    </tr>\n",
       "  </tbody>\n",
       "</table>\n",
       "</div>"
      ],
      "text/plain": [
       "will_click_checkbox     0     1\n",
       "is_tech_major                  \n",
       "0                    0.75  0.25\n",
       "1                    0.71  0.29"
      ]
     },
     "execution_count": 12,
     "metadata": {},
     "output_type": "execute_result"
    }
   ],
   "source": [
    "pd.crosstab(data['is_tech_major'], data['will_click_checkbox'], normalize='index')"
   ]
  },
  {
   "cell_type": "code",
   "execution_count": 13,
   "id": "3ff290e6",
   "metadata": {},
   "outputs": [
    {
     "data": {
      "text/html": [
       "<div>\n",
       "<style scoped>\n",
       "    .dataframe tbody tr th:only-of-type {\n",
       "        vertical-align: middle;\n",
       "    }\n",
       "\n",
       "    .dataframe tbody tr th {\n",
       "        vertical-align: top;\n",
       "    }\n",
       "\n",
       "    .dataframe thead th {\n",
       "        text-align: right;\n",
       "    }\n",
       "</style>\n",
       "<table border=\"1\" class=\"dataframe\">\n",
       "  <thead>\n",
       "    <tr style=\"text-align: right;\">\n",
       "      <th>will_click_donation</th>\n",
       "      <th>0</th>\n",
       "      <th>1</th>\n",
       "    </tr>\n",
       "    <tr>\n",
       "      <th>is_tech_major</th>\n",
       "      <th></th>\n",
       "      <th></th>\n",
       "    </tr>\n",
       "  </thead>\n",
       "  <tbody>\n",
       "    <tr>\n",
       "      <th>0</th>\n",
       "      <td>0.69</td>\n",
       "      <td>0.31</td>\n",
       "    </tr>\n",
       "    <tr>\n",
       "      <th>1</th>\n",
       "      <td>0.71</td>\n",
       "      <td>0.29</td>\n",
       "    </tr>\n",
       "  </tbody>\n",
       "</table>\n",
       "</div>"
      ],
      "text/plain": [
       "will_click_donation     0     1\n",
       "is_tech_major                  \n",
       "0                    0.69  0.31\n",
       "1                    0.71  0.29"
      ]
     },
     "execution_count": 13,
     "metadata": {},
     "output_type": "execute_result"
    }
   ],
   "source": [
    "pd.crosstab(data['is_tech_major'], data['will_click_donation'], normalize='index')"
   ]
  },
  {
   "cell_type": "code",
   "execution_count": 14,
   "id": "27a7322b",
   "metadata": {
    "scrolled": true
   },
   "outputs": [
    {
     "data": {
      "text/html": [
       "<div>\n",
       "<style scoped>\n",
       "    .dataframe tbody tr th:only-of-type {\n",
       "        vertical-align: middle;\n",
       "    }\n",
       "\n",
       "    .dataframe tbody tr th {\n",
       "        vertical-align: top;\n",
       "    }\n",
       "\n",
       "    .dataframe thead th {\n",
       "        text-align: right;\n",
       "    }\n",
       "</style>\n",
       "<table border=\"1\" class=\"dataframe\">\n",
       "  <thead>\n",
       "    <tr style=\"text-align: right;\">\n",
       "      <th>download_option</th>\n",
       "      <th>1</th>\n",
       "      <th>2</th>\n",
       "    </tr>\n",
       "    <tr>\n",
       "      <th>is_tech_major</th>\n",
       "      <th></th>\n",
       "      <th></th>\n",
       "    </tr>\n",
       "  </thead>\n",
       "  <tbody>\n",
       "    <tr>\n",
       "      <th>0</th>\n",
       "      <td>0.69</td>\n",
       "      <td>0.31</td>\n",
       "    </tr>\n",
       "    <tr>\n",
       "      <th>1</th>\n",
       "      <td>0.50</td>\n",
       "      <td>0.50</td>\n",
       "    </tr>\n",
       "  </tbody>\n",
       "</table>\n",
       "</div>"
      ],
      "text/plain": [
       "download_option     1     2\n",
       "is_tech_major              \n",
       "0                0.69  0.31\n",
       "1                0.50  0.50"
      ]
     },
     "execution_count": 14,
     "metadata": {},
     "output_type": "execute_result"
    }
   ],
   "source": [
    "pd.crosstab(data['is_tech_major'], data['download_option'], normalize='index')"
   ]
  },
  {
   "cell_type": "code",
   "execution_count": 15,
   "id": "baf9ca56",
   "metadata": {},
   "outputs": [
    {
     "data": {
      "text/plain": [
       "1    0.52\n",
       "4    0.31\n",
       "0    0.06\n",
       "2    0.06\n",
       "3    0.06\n",
       "Name: options_permitted_to_select, dtype: float64"
      ]
     },
     "execution_count": 15,
     "metadata": {},
     "output_type": "execute_result"
    }
   ],
   "source": [
    "data['options_permitted_to_select'].value_counts(normalize=True)"
   ]
  },
  {
   "cell_type": "code",
   "execution_count": 16,
   "id": "512bf346",
   "metadata": {},
   "outputs": [
    {
     "data": {
      "text/plain": [
       "Text(0.5, 1.0, 'Plot showing the responses for Q7.')"
      ]
     },
     "execution_count": 16,
     "metadata": {},
     "output_type": "execute_result"
    },
    {
     "data": {
      "image/png": "[encoded data removed]",
      "text/plain": [
       "<Figure size 432x288 with 1 Axes>"
      ]
     },
     "metadata": {
      "needs_background": "light"
     },
     "output_type": "display_data"
    }
   ],
   "source": [
    "data['options_permitted_to_select'].value_counts().sort_values().plot(kind = 'barh');\n",
    "plt.xlabel('count')\n",
    "plt.ylabel('number of options')\n",
    "plt.title('Plot showing the responses for Q7.')"
   ]
  },
  {
   "cell_type": "code",
   "execution_count": 17,
   "id": "10d677a3",
   "metadata": {},
   "outputs": [
    {
     "data": {
      "text/html": [
       "<div>\n",
       "<style scoped>\n",
       "    .dataframe tbody tr th:only-of-type {\n",
       "        vertical-align: middle;\n",
       "    }\n",
       "\n",
       "    .dataframe tbody tr th {\n",
       "        vertical-align: top;\n",
       "    }\n",
       "\n",
       "    .dataframe thead th {\n",
       "        text-align: right;\n",
       "    }\n",
       "</style>\n",
       "<table border=\"1\" class=\"dataframe\">\n",
       "  <thead>\n",
       "    <tr style=\"text-align: right;\">\n",
       "      <th>options_permitted_to_select</th>\n",
       "      <th>0</th>\n",
       "      <th>1</th>\n",
       "      <th>2</th>\n",
       "      <th>3</th>\n",
       "      <th>4</th>\n",
       "    </tr>\n",
       "    <tr>\n",
       "      <th>is_tech_major</th>\n",
       "      <th></th>\n",
       "      <th></th>\n",
       "      <th></th>\n",
       "      <th></th>\n",
       "      <th></th>\n",
       "    </tr>\n",
       "  </thead>\n",
       "  <tbody>\n",
       "    <tr>\n",
       "      <th>0</th>\n",
       "      <td>0.00</td>\n",
       "      <td>0.31</td>\n",
       "      <td>0.19</td>\n",
       "      <td>0.00</td>\n",
       "      <td>0.50</td>\n",
       "    </tr>\n",
       "    <tr>\n",
       "      <th>1</th>\n",
       "      <td>0.08</td>\n",
       "      <td>0.61</td>\n",
       "      <td>0.00</td>\n",
       "      <td>0.08</td>\n",
       "      <td>0.24</td>\n",
       "    </tr>\n",
       "  </tbody>\n",
       "</table>\n",
       "</div>"
      ],
      "text/plain": [
       "options_permitted_to_select     0     1     2     3     4\n",
       "is_tech_major                                            \n",
       "0                            0.00  0.31  0.19  0.00  0.50\n",
       "1                            0.08  0.61  0.00  0.08  0.24"
      ]
     },
     "execution_count": 17,
     "metadata": {},
     "output_type": "execute_result"
    }
   ],
   "source": [
    "pd.crosstab(data['is_tech_major'], data['options_permitted_to_select'], normalize='index')"
   ]
  },
  {
   "cell_type": "code",
   "execution_count": 18,
   "id": "ae98de97",
   "metadata": {},
   "outputs": [
    {
     "data": {
      "text/html": [
       "<div>\n",
       "<style scoped>\n",
       "    .dataframe tbody tr th:only-of-type {\n",
       "        vertical-align: middle;\n",
       "    }\n",
       "\n",
       "    .dataframe tbody tr th {\n",
       "        vertical-align: top;\n",
       "    }\n",
       "\n",
       "    .dataframe thead th {\n",
       "        text-align: right;\n",
       "    }\n",
       "</style>\n",
       "<table border=\"1\" class=\"dataframe\">\n",
       "  <thead>\n",
       "    <tr style=\"text-align: right;\">\n",
       "      <th>know_about_dark_pattern</th>\n",
       "      <th>0</th>\n",
       "      <th>1</th>\n",
       "    </tr>\n",
       "    <tr>\n",
       "      <th>is_tech_major</th>\n",
       "      <th></th>\n",
       "      <th></th>\n",
       "    </tr>\n",
       "  </thead>\n",
       "  <tbody>\n",
       "    <tr>\n",
       "      <th>0</th>\n",
       "      <td>0.94</td>\n",
       "      <td>0.06</td>\n",
       "    </tr>\n",
       "    <tr>\n",
       "      <th>1</th>\n",
       "      <td>0.76</td>\n",
       "      <td>0.24</td>\n",
       "    </tr>\n",
       "  </tbody>\n",
       "</table>\n",
       "</div>"
      ],
      "text/plain": [
       "know_about_dark_pattern     0     1\n",
       "is_tech_major                      \n",
       "0                        0.94  0.06\n",
       "1                        0.76  0.24"
      ]
     },
     "execution_count": 18,
     "metadata": {},
     "output_type": "execute_result"
    }
   ],
   "source": [
    "pd.crosstab(data['is_tech_major'], data['know_about_dark_pattern'], normalize='index')"
   ]
  },
  {
   "cell_type": "code",
   "execution_count": 19,
   "id": "80b682e0",
   "metadata": {},
   "outputs": [
    {
     "data": {
      "text/html": [
       "<div>\n",
       "<style scoped>\n",
       "    .dataframe tbody tr th:only-of-type {\n",
       "        vertical-align: middle;\n",
       "    }\n",
       "\n",
       "    .dataframe tbody tr th {\n",
       "        vertical-align: top;\n",
       "    }\n",
       "\n",
       "    .dataframe thead th {\n",
       "        text-align: right;\n",
       "    }\n",
       "</style>\n",
       "<table border=\"1\" class=\"dataframe\">\n",
       "  <thead>\n",
       "    <tr style=\"text-align: right;\">\n",
       "      <th>learnt_guidelines</th>\n",
       "      <th>0</th>\n",
       "      <th>1</th>\n",
       "    </tr>\n",
       "    <tr>\n",
       "      <th>is_tech_major</th>\n",
       "      <th></th>\n",
       "      <th></th>\n",
       "    </tr>\n",
       "  </thead>\n",
       "  <tbody>\n",
       "    <tr>\n",
       "      <th>0</th>\n",
       "      <td>0.88</td>\n",
       "      <td>0.12</td>\n",
       "    </tr>\n",
       "    <tr>\n",
       "      <th>1</th>\n",
       "      <td>0.74</td>\n",
       "      <td>0.26</td>\n",
       "    </tr>\n",
       "  </tbody>\n",
       "</table>\n",
       "</div>"
      ],
      "text/plain": [
       "learnt_guidelines     0     1\n",
       "is_tech_major                \n",
       "0                  0.88  0.12\n",
       "1                  0.74  0.26"
      ]
     },
     "execution_count": 19,
     "metadata": {},
     "output_type": "execute_result"
    }
   ],
   "source": [
    "pd.crosstab(data['is_tech_major'], data['learnt_guidelines'], normalize='index')"
   ]
  },
  {
   "cell_type": "code",
   "execution_count": 20,
   "id": "200577a4",
   "metadata": {},
   "outputs": [
    {
     "data": {
      "text/html": [
       "<div>\n",
       "<style scoped>\n",
       "    .dataframe tbody tr th:only-of-type {\n",
       "        vertical-align: middle;\n",
       "    }\n",
       "\n",
       "    .dataframe tbody tr th {\n",
       "        vertical-align: top;\n",
       "    }\n",
       "\n",
       "    .dataframe thead th {\n",
       "        text-align: right;\n",
       "    }\n",
       "</style>\n",
       "<table border=\"1\" class=\"dataframe\">\n",
       "  <thead>\n",
       "    <tr style=\"text-align: right;\">\n",
       "      <th></th>\n",
       "      <th>will_click_checkbox</th>\n",
       "      <th>0</th>\n",
       "      <th>1</th>\n",
       "    </tr>\n",
       "    <tr>\n",
       "      <th>is_tech_major</th>\n",
       "      <th>know_about_dark_pattern</th>\n",
       "      <th></th>\n",
       "      <th></th>\n",
       "    </tr>\n",
       "  </thead>\n",
       "  <tbody>\n",
       "    <tr>\n",
       "      <th rowspan=\"2\" valign=\"top\">0</th>\n",
       "      <th>0</th>\n",
       "      <td>11</td>\n",
       "      <td>4</td>\n",
       "    </tr>\n",
       "    <tr>\n",
       "      <th>1</th>\n",
       "      <td>1</td>\n",
       "      <td>0</td>\n",
       "    </tr>\n",
       "    <tr>\n",
       "      <th rowspan=\"2\" valign=\"top\">1</th>\n",
       "      <th>0</th>\n",
       "      <td>20</td>\n",
       "      <td>9</td>\n",
       "    </tr>\n",
       "    <tr>\n",
       "      <th>1</th>\n",
       "      <td>7</td>\n",
       "      <td>2</td>\n",
       "    </tr>\n",
       "  </tbody>\n",
       "</table>\n",
       "</div>"
      ],
      "text/plain": [
       "will_click_checkbox                     0  1\n",
       "is_tech_major know_about_dark_pattern       \n",
       "0             0                        11  4\n",
       "              1                         1  0\n",
       "1             0                        20  9\n",
       "              1                         7  2"
      ]
     },
     "execution_count": 20,
     "metadata": {},
     "output_type": "execute_result"
    }
   ],
   "source": [
    "pd.crosstab([data['is_tech_major'], data['know_about_dark_pattern']], data['will_click_checkbox'])"
   ]
  },
  {
   "cell_type": "code",
   "execution_count": 21,
   "id": "c3b0fb5e",
   "metadata": {},
   "outputs": [
    {
     "data": {
      "text/plain": [
       "4"
      ]
     },
     "execution_count": 21,
     "metadata": {},
     "output_type": "execute_result"
    }
   ],
   "source": [
    "int(data[((data['is_tech_major'] == 1)\n",
    " & (data['know_about_dark_pattern'] == 1)\n",
    " & (data['will_click_checkbox'] == 0)\n",
    " & (data['download_option'] == 2)\n",
    " & (data['will_click_donation'] == 0))]['count'].sum())"
   ]
  }
 ],
 "metadata": {
  "kernelspec": {
   "display_name": "Python 3",
   "language": "python",
   "name": "python3"
  },
  "language_info": {
   "codemirror_mode": {
    "name": "ipython",
    "version": 3
   },
   "file_extension": ".py",
   "mimetype": "text/x-python",
   "name": "python",
   "nbconvert_exporter": "python",
   "pygments_lexer": "ipython3",
   "version": "3.8.8"
  }
 },
 "nbformat": 4,
 "nbformat_minor": 5
}
